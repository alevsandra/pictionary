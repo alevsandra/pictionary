{
 "cells": [
  {
   "cell_type": "code",
   "execution_count": 1,
   "id": "85b78b9a",
   "metadata": {},
   "outputs": [],
   "source": [
    "from jupyter_set_up import init_django\n",
    "\n",
    "init_django('pictionary')"
   ]
  },
  {
   "cell_type": "code",
   "execution_count": 2,
   "id": "2569e114",
   "metadata": {},
   "outputs": [],
   "source": [
    "import numpy as np\n",
    "import torch\n",
    "import torch.nn as nn\n",
    "import torch.nn.functional as F\n",
    "import torch.optim as optim\n",
    "from tqdm import tqdm\n",
    "from datetime import datetime"
   ]
  },
  {
   "cell_type": "code",
   "execution_count": 3,
   "id": "a5be7fd2",
   "metadata": {},
   "outputs": [],
   "source": [
    "class CNN(nn.Module):\n",
    "    def __init__(self):\n",
    "        super().__init__()\n",
    "\n",
    "        self.conv1 = nn.Conv2d(1, 32, 5)\n",
    "        self.conv2 = nn.Conv2d(32, 64, 5)\n",
    "\n",
    "        x = torch.randn(28,28).view(-1,1,28,28)\n",
    "        self._to_linear = None\n",
    "        self.convs(x)\n",
    "\n",
    "        self.fc1 = nn.Linear(self._to_linear, 512)\n",
    "        self.fc2 = nn.Linear(512, 50)\n",
    "\n",
    "    def convs(self, x):\n",
    "        # max pooling over 2x2\n",
    "        x = F.max_pool2d(F.relu(self.conv1(x)), (2, 2))\n",
    "        x = F.max_pool2d(F.relu(self.conv2(x)), (2, 2))\n",
    "\n",
    "        if self._to_linear is None:\n",
    "            self._to_linear = np.prod(x[0].shape)\n",
    "        return x\n",
    "\n",
    "    def forward(self, x):\n",
    "        x = self.convs(x)\n",
    "        x = x.view(-1, self._to_linear)\n",
    "        x = F.relu(self.fc1(x))\n",
    "        x = self.fc2(x)\n",
    "        return F.softmax(x, dim=1)"
   ]
  },
  {
   "cell_type": "code",
   "execution_count": 13,
   "id": "5f4f2798",
   "metadata": {
    "pycharm": {
     "name": "#%%\n"
    }
   },
   "outputs": [],
   "source": [
    "def train_X_y(start_index, end_index):\n",
    "    for i, x in enumerate(np.load('train.npy', allow_pickle=True)):\n",
    "        if start_index<=i<end_index:\n",
    "            yield i, torch.tensor(int(x[0])), torch.tensor(x[1])"
   ]
  },
  {
   "cell_type": "code",
   "execution_count": 5,
   "id": "96e9aa7d",
   "metadata": {},
   "outputs": [],
   "source": [
    "def file_len(file):\n",
    "    with open('test.npy', 'rb') as f:\n",
    "        np.lib.format.read_magic(f)\n",
    "        return np.lib.format.read_array_header_1_0(f)[0][0]"
   ]
  },
  {
   "cell_type": "code",
   "execution_count": 20,
   "id": "6b6625d5",
   "metadata": {},
   "outputs": [],
   "source": [
    "device = torch.device('cuda' if torch.cuda.is_available() else 'cpu')\n",
    "\n",
    "def train(cnn, file_len):\n",
    "    BATCH_SIZE = 10000\n",
    "    EPOCHS = 1\n",
    "    optimizer = optim.Adam(cnn.parameters(), lr=0.01)\n",
    "    loss_function = nn.CrossEntropyLoss()\n",
    "\n",
    "    for epoch in range(EPOCHS):\n",
    "        for i in tqdm(range(0, file_len, BATCH_SIZE)):\n",
    "            \n",
    "            batch_X = []\n",
    "            batch_y = []\n",
    "            \n",
    "            for j, label, img in train_X_y(i, i+BATCH_SIZE):\n",
    "                batch_y.append(label)\n",
    "                batch_X.append(img)\n",
    "                    \n",
    "            batch_X = torch.stack(batch_X).view(-1, 1, 28, 28).to(device)\n",
    "            batch_y = torch.stack(batch_y).to(device)\n",
    "\n",
    "            cnn.zero_grad()\n",
    "            outputs = cnn(batch_X)\n",
    "            loss = loss_function(outputs, batch_y)\n",
    "            loss.backward()\n",
    "            optimizer.step()\n",
    "            \n",
    "        print(\"Epoch: {} Loss: {}\".format(epoch, loss))\n",
    "\n",
    "\n",
    "def test(cnn, test_X, test_y, file_len):\n",
    "    correct = 0\n",
    "    total = 0\n",
    "    with torch.no_grad():\n",
    "        for i in tqdm(range(file_len)):\n",
    "            real_class = torch.argmax(test_y[i]).to(device)\n",
    "            net_out = cnn(test_X[i].view(-1, 1, 28, 28).to(device))[0]\n",
    "            predicted_class = torch.argmax(net_out)\n",
    "            if predicted_class == real_class:\n",
    "                correct += 1\n",
    "            total += 1\n",
    "    print(\"Accuracy: {}\".format(round(correct / total, 3)))"
   ]
  },
  {
   "cell_type": "code",
   "execution_count": 7,
   "id": "12a55346",
   "metadata": {
    "pycharm": {
     "name": "#%%\n"
    },
    "scrolled": false
   },
   "outputs": [
    {
     "name": "stderr",
     "output_type": "stream",
     "text": [
      "100%|██████████████████████████████████████████████████████████████████████████████████████████████████████████████████████████████████████████████████| 94/94 [51:57<00:00, 33.17s/it]\n"
     ]
    },
    {
     "name": "stdout",
     "output_type": "stream",
     "text": [
      "Epoch: 0 Loss: 3.5873355865478516\n",
      "Duration: 0:51:58.850420\n"
     ]
    }
   ],
   "source": [
    "start_time = datetime.now()\n",
    "cnn = CNN().to(device)\n",
    "train(cnn, file_len('train.npy'))\n",
    "# test(cnn, file_len('test.npy'))\n",
    "print(\"Duration: {}\".format(datetime.now() - start_time))"
   ]
  },
  {
   "cell_type": "code",
   "execution_count": 26,
   "id": "0ab70e41",
   "metadata": {},
   "outputs": [],
   "source": [
    "y = np.load('test.npy', allow_pickle=True)[:, 0]\n",
    "y = y.astype('int')\n",
    "temp = np.load('test.npy', allow_pickle=True)[:, 1]\n",
    "\n",
    "X = []\n",
    "for img in temp:\n",
    "    X.append(torch.tensor(img))"
   ]
  },
  {
   "cell_type": "code",
   "execution_count": 24,
   "id": "d62f1dfb",
   "metadata": {},
   "outputs": [
    {
     "name": "stderr",
     "output_type": "stream",
     "text": [
      "100%|████████████████████████████████████████████████████████████████████████████████████████████████████████████████████████████████████████| 933509/933509 [11:09<00:00, 1394.54it/s]"
     ]
    },
    {
     "name": "stdout",
     "output_type": "stream",
     "text": [
      "Accuracy: 0.0\n",
      "Duration: 0:11:09.666488\n"
     ]
    },
    {
     "name": "stderr",
     "output_type": "stream",
     "text": [
      "\n"
     ]
    }
   ],
   "source": [
    "start_time = datetime.now()\n",
    "test(cnn, X, torch.Tensor(y).to(device), file_len('test.npy'))\n",
    "print(\"Duration: {}\".format(datetime.now() - start_time))"
   ]
  },
  {
   "cell_type": "code",
   "execution_count": null,
   "id": "adec3d4a",
   "metadata": {},
   "outputs": [],
   "source": []
  }
 ],
 "metadata": {
  "kernelspec": {
   "display_name": "Python 3 (ipykernel)",
   "language": "python",
   "name": "python3"
  },
  "language_info": {
   "codemirror_mode": {
    "name": "ipython",
    "version": 3
   },
   "file_extension": ".py",
   "mimetype": "text/x-python",
   "name": "python",
   "nbconvert_exporter": "python",
   "pygments_lexer": "ipython3",
   "version": "3.9.7"
  }
 },
 "nbformat": 4,
 "nbformat_minor": 5
}
