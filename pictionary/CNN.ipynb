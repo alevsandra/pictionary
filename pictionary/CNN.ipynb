{
 "cells": [
  {
   "cell_type": "code",
   "execution_count": 1,
   "id": "85b78b9a",
   "metadata": {},
   "outputs": [],
   "source": [
    "from jupyter_set_up import init_django\n",
    "\n",
    "init_django('pictionary')"
   ]
  },
  {
   "cell_type": "code",
   "execution_count": 2,
   "id": "2569e114",
   "metadata": {},
   "outputs": [],
   "source": [
    "import numpy as np\n",
    "import torch\n",
    "import torch.nn as nn\n",
    "import torch.nn.functional as F\n",
    "import torch.optim as optim\n",
    "from tqdm import tqdm"
   ]
  },
  {
   "cell_type": "code",
   "execution_count": 3,
   "id": "a5be7fd2",
   "metadata": {},
   "outputs": [],
   "source": [
    "class CNN(nn.Module):\n",
    "    def __init__(self, classes):\n",
    "        super(CNN, self).__init__()\n",
    "\n",
    "        self.conv1 = nn.Conv2d(1, 64, 3, 1, 1)\n",
    "        self.conv2 = nn.Conv2d(64, 256, 3, 1, 1)\n",
    "        self.conv3 = nn.Conv2d(256, 512, 3, 1, 1)\n",
    "\n",
    "        self.fc1 = nn.Linear(512*3*3, 512)\n",
    "        self.fc2 = nn.Linear(512, classes)\n",
    "\n",
    "    def forward(self, x):\n",
    "        x = F.max_pool2d(F.relu(self.conv1(x)), (2, 2))\n",
    "        x = F.max_pool2d(F.relu(self.conv2(x)), (2, 2))\n",
    "        x = F.max_pool2d(F.relu(self.conv3(x)), (2, 2))\n",
    "        x = x.view(x.size(0), -1)\n",
    "        x = self.fc1(x)\n",
    "        x = self.fc2(x)\n",
    "        return x"
   ]
  },
  {
   "cell_type": "code",
   "execution_count": 4,
   "id": "6efb7b0b",
   "metadata": {},
   "outputs": [],
   "source": [
    "def create_X_y(file):\n",
    "    X = []\n",
    "    y = []\n",
    "    for label, img in np.load(file, allow_pickle=True):\n",
    "        y.append(torch.tensor(int(label)-1))\n",
    "        X.append(torch.tensor(img))\n",
    "    return torch.stack(X), torch.stack(y)"
   ]
  },
  {
   "cell_type": "code",
   "execution_count": 25,
   "id": "3e59a652",
   "metadata": {},
   "outputs": [],
   "source": [
    "device = torch.device('cuda' if torch.cuda.is_available() else 'cpu')\n",
    "\n",
    "def train(cnn, train_X, train_y):\n",
    "    BATCH_SIZE = 500\n",
    "    EPOCHS = 16\n",
    "    optimizer = optim.SGD(cnn.parameters(), lr=0.1)\n",
    "    loss_function = nn.CrossEntropyLoss()\n",
    "\n",
    "    for epoch in range(EPOCHS):\n",
    "        for i in tqdm(range(0, len(train_X), BATCH_SIZE)):\n",
    "            \n",
    "            batch_X = train_X[i:i+BATCH_SIZE].view(-1, 1, 28, 28).to(device)\n",
    "            batch_y = train_y[i:i+BATCH_SIZE].to(device)\n",
    "\n",
    "            outputs = cnn(batch_X)\n",
    "            loss = loss_function(outputs, batch_y)\n",
    "            \n",
    "            cnn.zero_grad()\n",
    "            loss.backward()\n",
    "            optimizer.step()\n",
    "            \n",
    "        print(\"Epoch: {} Loss: {}\".format(epoch+1, loss))\n",
    "\n",
    "\n",
    "def test(cnn, test_X, test_y):\n",
    "    correct = 0\n",
    "    total = 0\n",
    "    with torch.no_grad():\n",
    "        for i in tqdm(range(len(test_X))):\n",
    "            real_class = test_y[i].to(device)\n",
    "            net_out = cnn(test_X[i].view(-1, 1, 28, 28).to(device))[0]\n",
    "            predicted_class = torch.argmax(net_out)\n",
    "            if predicted_class == real_class:\n",
    "                correct += 1\n",
    "            total += 1\n",
    "    print(\"Accuracy: {}\".format(round(correct / total, 3)))"
   ]
  },
  {
   "cell_type": "code",
   "execution_count": 6,
   "id": "195a8a34",
   "metadata": {},
   "outputs": [],
   "source": [
    "train_X, train_y = create_X_y('train.npy')"
   ]
  },
  {
   "cell_type": "code",
   "execution_count": 14,
   "id": "0968bf9e",
   "metadata": {},
   "outputs": [],
   "source": [
    "from PIL import Image\n",
    "\n",
    "for i in range(-299, -1):\n",
    "    img = Image.fromarray(np.array(train_X[i]))\n",
    "    train_X[i] = torch.tensor(np.pad(np.array(img.resize(size=(26, 26))), 1, mode='constant'))"
   ]
  },
  {
   "cell_type": "code",
   "execution_count": 26,
   "id": "ec675d79",
   "metadata": {
    "scrolled": true
   },
   "outputs": [
    {
     "name": "stderr",
     "output_type": "stream",
     "text": [
      "100%|██████████████████████████████████████████████████████████████████████████████████████████████████████████████████████████████████████████████| 3734/3734 [09:01<00:00,  6.89it/s]\n"
     ]
    },
    {
     "name": "stdout",
     "output_type": "stream",
     "text": [
      "Epoch: 1 Loss: 3.504225015640259\n"
     ]
    },
    {
     "name": "stderr",
     "output_type": "stream",
     "text": [
      "100%|██████████████████████████████████████████████████████████████████████████████████████████████████████████████████████████████████████████████| 3734/3734 [09:09<00:00,  6.80it/s]\n"
     ]
    },
    {
     "name": "stdout",
     "output_type": "stream",
     "text": [
      "Epoch: 2 Loss: 2.975191354751587\n"
     ]
    },
    {
     "name": "stderr",
     "output_type": "stream",
     "text": [
      "100%|██████████████████████████████████████████████████████████████████████████████████████████████████████████████████████████████████████████████| 3734/3734 [09:10<00:00,  6.79it/s]\n"
     ]
    },
    {
     "name": "stdout",
     "output_type": "stream",
     "text": [
      "Epoch: 3 Loss: 2.816347599029541\n"
     ]
    },
    {
     "name": "stderr",
     "output_type": "stream",
     "text": [
      "100%|██████████████████████████████████████████████████████████████████████████████████████████████████████████████████████████████████████████████| 3734/3734 [09:10<00:00,  6.79it/s]\n"
     ]
    },
    {
     "name": "stdout",
     "output_type": "stream",
     "text": [
      "Epoch: 4 Loss: 2.6657447814941406\n"
     ]
    },
    {
     "name": "stderr",
     "output_type": "stream",
     "text": [
      "100%|██████████████████████████████████████████████████████████████████████████████████████████████████████████████████████████████████████████████| 3734/3734 [09:10<00:00,  6.78it/s]\n"
     ]
    },
    {
     "name": "stdout",
     "output_type": "stream",
     "text": [
      "Epoch: 5 Loss: 2.5237743854522705\n"
     ]
    },
    {
     "name": "stderr",
     "output_type": "stream",
     "text": [
      "100%|██████████████████████████████████████████████████████████████████████████████████████████████████████████████████████████████████████████████| 3734/3734 [09:10<00:00,  6.78it/s]\n"
     ]
    },
    {
     "name": "stdout",
     "output_type": "stream",
     "text": [
      "Epoch: 6 Loss: 2.400860071182251\n"
     ]
    },
    {
     "name": "stderr",
     "output_type": "stream",
     "text": [
      "100%|██████████████████████████████████████████████████████████████████████████████████████████████████████████████████████████████████████████████| 3734/3734 [09:11<00:00,  6.77it/s]\n"
     ]
    },
    {
     "name": "stdout",
     "output_type": "stream",
     "text": [
      "Epoch: 7 Loss: 2.2923331260681152\n"
     ]
    },
    {
     "name": "stderr",
     "output_type": "stream",
     "text": [
      "100%|██████████████████████████████████████████████████████████████████████████████████████████████████████████████████████████████████████████████| 3734/3734 [09:12<00:00,  6.76it/s]\n"
     ]
    },
    {
     "name": "stdout",
     "output_type": "stream",
     "text": [
      "Epoch: 8 Loss: 2.2158217430114746\n"
     ]
    },
    {
     "name": "stderr",
     "output_type": "stream",
     "text": [
      "100%|██████████████████████████████████████████████████████████████████████████████████████████████████████████████████████████████████████████████| 3734/3734 [09:12<00:00,  6.76it/s]\n"
     ]
    },
    {
     "name": "stdout",
     "output_type": "stream",
     "text": [
      "Epoch: 9 Loss: 2.1658451557159424\n"
     ]
    },
    {
     "name": "stderr",
     "output_type": "stream",
     "text": [
      "100%|██████████████████████████████████████████████████████████████████████████████████████████████████████████████████████████████████████████████| 3734/3734 [09:12<00:00,  6.75it/s]\n"
     ]
    },
    {
     "name": "stdout",
     "output_type": "stream",
     "text": [
      "Epoch: 10 Loss: 2.1085450649261475\n"
     ]
    },
    {
     "name": "stderr",
     "output_type": "stream",
     "text": [
      "100%|██████████████████████████████████████████████████████████████████████████████████████████████████████████████████████████████████████████████| 3734/3734 [09:12<00:00,  6.75it/s]\n"
     ]
    },
    {
     "name": "stdout",
     "output_type": "stream",
     "text": [
      "Epoch: 11 Loss: 2.0628585815429688\n"
     ]
    },
    {
     "name": "stderr",
     "output_type": "stream",
     "text": [
      "100%|██████████████████████████████████████████████████████████████████████████████████████████████████████████████████████████████████████████████| 3734/3734 [09:12<00:00,  6.75it/s]\n"
     ]
    },
    {
     "name": "stdout",
     "output_type": "stream",
     "text": [
      "Epoch: 12 Loss: 2.0161707401275635\n"
     ]
    },
    {
     "name": "stderr",
     "output_type": "stream",
     "text": [
      "100%|██████████████████████████████████████████████████████████████████████████████████████████████████████████████████████████████████████████████| 3734/3734 [09:13<00:00,  6.75it/s]\n"
     ]
    },
    {
     "name": "stdout",
     "output_type": "stream",
     "text": [
      "Epoch: 13 Loss: 1.976540446281433\n"
     ]
    },
    {
     "name": "stderr",
     "output_type": "stream",
     "text": [
      "100%|██████████████████████████████████████████████████████████████████████████████████████████████████████████████████████████████████████████████| 3734/3734 [09:13<00:00,  6.74it/s]\n"
     ]
    },
    {
     "name": "stdout",
     "output_type": "stream",
     "text": [
      "Epoch: 14 Loss: 1.940956711769104\n"
     ]
    },
    {
     "name": "stderr",
     "output_type": "stream",
     "text": [
      "100%|██████████████████████████████████████████████████████████████████████████████████████████████████████████████████████████████████████████████| 3734/3734 [09:13<00:00,  6.75it/s]\n"
     ]
    },
    {
     "name": "stdout",
     "output_type": "stream",
     "text": [
      "Epoch: 15 Loss: 1.9111964702606201\n"
     ]
    },
    {
     "name": "stderr",
     "output_type": "stream",
     "text": [
      "100%|██████████████████████████████████████████████████████████████████████████████████████████████████████████████████████████████████████████████| 3734/3734 [09:14<00:00,  6.73it/s]\n"
     ]
    },
    {
     "name": "stdout",
     "output_type": "stream",
     "text": [
      "Epoch: 16 Loss: 1.8835115432739258\n"
     ]
    }
   ],
   "source": [
    "cnn1 = CNN(50).to(device)\n",
    "train(cnn1, train_X, train_y)"
   ]
  },
  {
   "cell_type": "code",
   "execution_count": 18,
   "id": "0ab70e41",
   "metadata": {},
   "outputs": [],
   "source": [
    "test_X, test_y = create_X_y('test.npy')"
   ]
  },
  {
   "cell_type": "code",
   "execution_count": 19,
   "id": "89032556",
   "metadata": {},
   "outputs": [],
   "source": [
    "for i in range(-149, -1):\n",
    "    img = Image.fromarray(np.array(test_X[i]))\n",
    "    test_X[i] = torch.tensor(np.pad(np.array(img.resize(size=(26, 26))), 1, mode='constant'))"
   ]
  },
  {
   "cell_type": "code",
   "execution_count": 27,
   "id": "e8a6a7e7",
   "metadata": {},
   "outputs": [
    {
     "name": "stderr",
     "output_type": "stream",
     "text": [
      "100%|█████████████████████████████████████████████████████████████████████████████████████████████████████████████████████████████████████████| 933509/933509 [22:03<00:00, 705.43it/s]"
     ]
    },
    {
     "name": "stdout",
     "output_type": "stream",
     "text": [
      "Accuracy: 0.875\n"
     ]
    },
    {
     "name": "stderr",
     "output_type": "stream",
     "text": [
      "\n"
     ]
    }
   ],
   "source": [
    "test(cnn1, test_X, test_y)"
   ]
  },
  {
   "cell_type": "code",
   "execution_count": null,
   "id": "12a55346",
   "metadata": {
    "pycharm": {
     "name": "#%%\n"
    },
    "scrolled": true
   },
   "outputs": [
    {
     "name": "stderr",
     "output_type": "stream",
     "text": [
      " 81%|██████████████████████████████████████████████████████████████████████████████████████████████████████████████████▌                           | 3013/3734 [07:19<01:45,  6.85it/s]"
     ]
    }
   ],
   "source": [
    "cnn = CNN(40).to(device)\n",
    "train(cnn, train_X[:-299], train_y[:-299])"
   ]
  },
  {
   "cell_type": "code",
   "execution_count": null,
   "id": "d62f1dfb",
   "metadata": {
    "scrolled": true
   },
   "outputs": [],
   "source": [
    "test(cnn, test_X[:-149], test_y[:-149])"
   ]
  },
  {
   "cell_type": "code",
   "execution_count": 21,
   "id": "582042a2",
   "metadata": {},
   "outputs": [],
   "source": [
    "import pickle\n",
    "pickle.dump(cnn1,open(\"cnn_model.sav\", \"wb\"))"
   ]
  },
  {
   "cell_type": "code",
   "execution_count": 30,
   "id": "9bb19f49",
   "metadata": {},
   "outputs": [
    {
     "data": {
      "text/plain": [
       "(46, 48)"
      ]
     },
     "execution_count": 30,
     "metadata": {},
     "output_type": "execute_result"
    }
   ],
   "source": [
    "model = pickle.load(open(\"cnn_model.sav\", \"rb\"))\n",
    "output = model(test_X[-7].view(-1, 1, 28, 28).to(device))[0]\n",
    "prediction = torch.argmax(output)\n",
    "int(prediction), int(test_y[-7])"
   ]
  },
  {
   "cell_type": "code",
   "execution_count": 15,
   "id": "49941f13",
   "metadata": {},
   "outputs": [],
   "source": [
    "import pickle\n",
    "pickle.dump(cnn,open(\"cnn_model_QD.sav\", \"wb\"))"
   ]
  },
  {
   "cell_type": "code",
   "execution_count": null,
   "id": "ad8459a0",
   "metadata": {},
   "outputs": [],
   "source": []
  }
 ],
 "metadata": {
  "kernelspec": {
   "display_name": "Python 3 (ipykernel)",
   "language": "python",
   "name": "python3"
  },
  "language_info": {
   "codemirror_mode": {
    "name": "ipython",
    "version": 3
   },
   "file_extension": ".py",
   "mimetype": "text/x-python",
   "name": "python",
   "nbconvert_exporter": "python",
   "pygments_lexer": "ipython3",
   "version": "3.9.7"
  }
 },
 "nbformat": 4,
 "nbformat_minor": 5
}
